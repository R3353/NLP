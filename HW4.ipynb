{
  "cells": [
    {
      "cell_type": "markdown",
      "metadata": {
        "id": "uZkSNhoPtuDC"
      },
      "source": [
        "<a href=\"https://colab.research.google.com/github/ucbnlp24/hws4nlp24/blob/main/HW4/HW4.ipynb\" target=\"_parent\"><img src=\"https://colab.research.google.com/assets/colab-badge.svg\" alt=\"Open In Colab\"/></a>"
      ]
    },
    {
      "cell_type": "markdown",
      "metadata": {
        "id": "mb4Yr8KhRhbe"
      },
      "source": [
        "# Homework 4: Large Language Models & Prompting\n",
        "\n",
        "### Due Date: March 8th, 2024 (11:59pm)\n",
        "\n",
        "## Total Points: 100 points\n",
        "- *Warning*: Start this assignment early as it is dependent on the OpenAI API!\n",
        "- **Overview**: In this assignment, we will examine some of the latest language models you may be familiar with like GPT-3. We'll cover:\n",
        "\n",
        "  - Zero-shot prompting\n",
        "  - Prompt engineering\n",
        "  - Few-shot prompting\n",
        "  - Prompting instruction-tuned models\n",
        "  - Chain-of-Thought Reasoning prompting\n",
        "\n",
        "- **OpenAI Account Setup**: You will need an OpenAI account and API key, you can [sign up here](https://platform.openai.com/signup?launch) (click on `API`) and learn [how to make an API key here](https://help.openai.com/en/articles/4936850-where-do-i-find-my-secret-api-key). The OpenAI API is paid, however,  this homework will stay well under the free $5 credit given to each account. Be careful not to exhaust your free OpenAI credits while testing, you can check [on this page here](https://platform.openai.com/account/usage). To avoid exhausting your credits quickly, avoid running cells over and over again after you've completed an exercise.\n",
        "\n",
        "- **Grading**: To complete the homework assignment, you should implement anything marked with `#TODO`\n",
        "  - **NOTE #1**: For this assignment you will be creating your own unit tests for the prompts you generate. For each 'Code' section below you are required to write **3 unit tests** per prompt and submit the prompt, unit test, and output (more details in Submissions section) in the report.\n",
        "  - **NOTE #2**: A boilerplate unit test function is provided below in the setup section, feel free to modify or come up with your own as long as you include the **expected** answer and the **response** from the OpenAI API in the cell output and report.\n",
        "  - **NOTE #3**: Points will be deducted if you go over the word limit for questions with a word limit.\n",
        "  - **NOTE #4**: Have fun with this homework! It's meant to be more exploratory and for you to gain exposure to current LLM trends.\n",
        "\n",
        "- **Deliverables:** This assignment has several deliverables:\n",
        "  - Code (this notebook) *(Manually Graded)*\n",
        "    - Section 1: 1.1, 1.2, 1.3, 1.4, 1.5, 1.6\n",
        "    - Section 3: 3.1, 3.2\n",
        "    - Section 4: 4.1, 4.2\n",
        "    - Section 5: 5.1, 5.2\n",
        "  - Write Up (report.pdf) *(Manually Graded)*\n",
        "    - All Sections\n",
        "\n",
        "\n",
        "## Recommended Readings\n",
        "- [Language Models are Few-Shot Learners](https://arxiv.org/pdf/2005.14165.pdf). Tom B. Brown, Benjamin Mann, Nick Ryder, Melanie Subbiah, Jared Kaplan, ...others. ArXiV 2020.\n",
        "- [Pre-train, Prompt, and Predict: A Systematic Survey of Prompting Methods in Natural Language Processing](https://arxiv.org/pdf/2107.13586.pdf). Pengfei Liu, Weizhe Yuan, Jinlan Fu, Zhengbao Jiang, Hiroaki Hayashi, Graham Neubig. ACM Computing Surveys 2021.\n",
        "- [Best practices for prompt engineering with OpenAI API](https://help.openai.com/en/articles/6654000-best-practices-for-prompt-engineering-with-openai-api). Jessica Shieh. OpenAI 2023.\n",
        "- [Training language models to follow instructions with human feedback](https://arxiv.org/pdf/2203.02155.pdf). Long Ouyang, Jeff Wu, Xu Jiang, Diogo Almeida, Carroll L. Wainwright, ...others. ArXiV 2020.\n",
        "- [Chain-of-Thought Prompting Elicits Reasoning in Large Language Models](https://arxiv.org/pdf/2201.11903.pdf). Jason Wei, Xuezhi Wang, Dale Schuurmans, Maarten Bosma, brian ichter, Fei Xia, Ed H. Chi, Quoc V Le, Denny Zhou. NeurIPS 2022.\n",
        "\n",
        "## To get started, **make a copy** of this colab notebook into your google drive!"
      ]
    },
    {
      "cell_type": "markdown",
      "metadata": {
        "id": "CHrdyiQdBt2K"
      },
      "source": [
        "## Setup: Dataset / Packages\n",
        "- **Run the following cells and enter your OpenAI API Key!**\n",
        "- The models we are using are not the best models OpenAI has to offer (for cost reasons), therefore, the output you get from prompting ChatGPT for example may not match the output from the API.\n",
        "- We will be using `babbage-002` and `gpt-3.5-turbo-instruct` for this assignment\n",
        "  - Babbage: can understand and generate natural language but can't follow instructions\n",
        "  - GPT 3.5 Turbo Instruct: can understand and generate natural language as well as follow explicit instructions (more on this in section 4)"
      ]
    },
    {
      "cell_type": "code",
      "execution_count": null,
      "metadata": {
        "id": "lNBeJLVcSusU"
      },
      "outputs": [],
      "source": [
        "%%capture\n",
        "!pip install openai datasets\n",
        "\n",
        "import openai\n",
        "from openai import OpenAI\n",
        "from time import sleep\n",
        "from datasets import load_dataset\n",
        "\n",
        "IMDB_DATASET = load_dataset(\"imdb\", split='train').shuffle(42)[0:50]\n",
        "IMDB_DATASET_X = IMDB_DATASET['text']\n",
        "IMDB_DATASET_Y = IMDB_DATASET['label']\n",
        "del IMDB_DATASET\n",
        "\n",
        "\n",
        "# TODO - Start\n",
        "OPENAI_API_KEY = \"REDACTED\"\n",
        "# TODO - End\n",
        "\n",
        "cache = {}\n",
        "def run_gpt3(prompt, return_first_line = True, instruction_tuned = False):\n",
        "    # Return the response from the cache if we have already run this\n",
        "    cache_key = (prompt, return_first_line, instruction_tuned)\n",
        "    if cache_key in cache:\n",
        "        return cache[cache_key]\n",
        "    client = OpenAI(\n",
        "      api_key=OPENAI_API_KEY,\n",
        "    )\n",
        "    # Set the API Key\n",
        "\n",
        "\n",
        "    # Select the model\n",
        "    if instruction_tuned:\n",
        "        model = \"gpt-3.5-turbo-instruct\"\n",
        "    else:\n",
        "        model = \"babbage-002\"\n",
        "\n",
        "    # Send the prompt to GPT-3\n",
        "    for i in range(0,60,6):\n",
        "        try:\n",
        "            response = client.completions.create(\n",
        "                model=model,\n",
        "                prompt=prompt,\n",
        "                temperature=0,\n",
        "                max_tokens=100,\n",
        "                top_p=1,\n",
        "                frequency_penalty=0.0,\n",
        "                presence_penalty=0.0,\n",
        "            )\n",
        "            response = dict(response)['choices'][0]\n",
        "            response = dict(response)['text'].strip()\n",
        "            break\n",
        "        except Exception as e:\n",
        "            print(e)\n",
        "            sleep(i)\n",
        "\n",
        "    # Parse the response\n",
        "    if return_first_line:\n",
        "        final_response = response.split('\\n')[0]\n",
        "    else:\n",
        "        final_response = response\n",
        "\n",
        "    # Cache and return the response\n",
        "    cache[cache_key] = final_response\n",
        "    return final_response"
      ]
    },
    {
      "cell_type": "markdown",
      "metadata": {
        "id": "lWjsOg6u6nj5"
      },
      "source": [
        "## Boilerplate Unit Test"
      ]
    },
    {
      "cell_type": "code",
      "execution_count": null,
      "metadata": {
        "id": "ZJ1Q_R1t6rHw"
      },
      "outputs": [],
      "source": [
        "def run_unit_test(prompt: str, parameter: str, expected_answer: str, return_first_line=True, instruction_tuned=False):\n",
        "    parameterized_prompt = prompt.replace(\"{input}\", parameter)\n",
        "    answer = run_gpt3(parameterized_prompt, return_first_line, instruction_tuned)\n",
        "\n",
        "    print(\"Expected: \" + expected_answer)\n",
        "    print(\"Actual: \"+ answer)\n",
        "    assert expected_answer in answer"
      ]
    },
    {
      "cell_type": "markdown",
      "metadata": {
        "id": "PGlvLsC9B-gI"
      },
      "source": [
        "# Section 1: Exploring Prompting (12 points)\n",
        "**Background:** Prompting is a way to guide a language model, which is ultimately just a model that predicts the most likely next sequence of words, to complete some arbitrary task you want it to complete. We'll walk through a few examples and then you'll try creating your own prompts.\n",
        "\n",
        "A language model will \"complete\" (just like autocomplete) your prompt with what words are most likely to come next. We demonstrate this is the case by showing how GPT-3 completes movie quotes, when giving it the beginning of the quote:"
      ]
    },
    {
      "cell_type": "code",
      "execution_count": null,
      "metadata": {
        "colab": {
          "base_uri": "https://localhost:8080/"
        },
        "id": "YcILHclcou0L",
        "outputId": "deeabf6b-fd1c-4e36-868d-7cc93e2a6fa7"
      },
      "outputs": [
        {
          "output_type": "stream",
          "name": "stdout",
          "text": [
            "you never know what you're gonna get. (laughing)\n",
            "comes great responsibility. The same goes for the power of the internet. The internet is a powerful tool, but it can also be a dangerous tool. The internet is a powerful tool, but it can also be a dangerous tool. The internet is a powerful tool, but it can also be a dangerous tool. The internet is a powerful tool, but it can also be a dangerous tool. The internet is a powerful tool, but it can also be a dangerous tool. The internet is a powerful tool\n",
            "James Bond. James Bond. James Bond. James Bond. James Bond. James Bond. James Bond. James Bond. James Bond. James Bond. James Bond. James Bond. James Bond. James Bond. James Bond. James Bond. James Bond. James Bond. James Bond. James Bond. James Bond. James Bond. James Bond. James Bond. James Bond. James Bond. James Bond. James Bond. James Bond. James Bond. James Bond. James Bond. James Bond. James\n",
            "have a problem.\n",
            "Kansas anymore.\n"
          ]
        }
      ],
      "source": [
        "print(run_gpt3(\"Life is like a box of chocolates,\"))\n",
        "print(run_gpt3(\"With great power,\"))\n",
        "print(run_gpt3(\"The name's Bond.\"))\n",
        "print(run_gpt3(\"Houston, we\"))\n",
        "print(run_gpt3(\"I've a feeling we're not in\"))"
      ]
    },
    {
      "cell_type": "markdown",
      "metadata": {
        "id": "RJKLr2kjatM3"
      },
      "source": [
        "Now imagine we give a prompt like this:"
      ]
    },
    {
      "cell_type": "code",
      "execution_count": null,
      "metadata": {
        "colab": {
          "base_uri": "https://localhost:8080/"
        },
        "id": "L-XKt2tpZzi7",
        "outputId": "982674a1-e367-4038-a15b-dd9e7e58e7b1"
      },
      "outputs": [
        {
          "output_type": "stream",
          "name": "stdout",
          "text": [
            "George Washington. The first president of the United States was George Washington. He was the first president of the United States. He was the first president of the United States. He was the first president of the United States. He was the first president of the United States. He was the first president of the United States. He was the first president of the United States. He was the first president of the United States. He was the first president of the United States. He was the first president of\n"
          ]
        }
      ],
      "source": [
        "print(run_gpt3(\"Question: Who was the first president of the United States? Answer:\"))"
      ]
    },
    {
      "cell_type": "markdown",
      "metadata": {
        "id": "Q41x7bVXbLY-"
      },
      "source": [
        "By posing a question and writing \"Answer:\" at the end, we make it such that the most likely next sequence of words is the answer to the question! This is the key to large language models being able to perform arbitrary tasks, even though they are only trained to predict the next word.\n",
        "\n",
        "We can parameterize this prompt and make it reusable for different questions:"
      ]
    },
    {
      "cell_type": "code",
      "execution_count": null,
      "metadata": {
        "id": "YeHF3-OPZ601",
        "colab": {
          "base_uri": "https://localhost:8080/"
        },
        "outputId": "51c13378-c4be-4f24-deab-efccf3b901df"
      },
      "outputs": [
        {
          "output_type": "stream",
          "name": "stdout",
          "text": [
            "Apple Inc. Steve Jobs founded Apple in 1976. He was the CEO of Apple for 12 years. He was the CEO of Apple for 12 years. He was the CEO of Apple for 12 years. He was the CEO of Apple for 12 years. He was the CEO of Apple for 12 years. He was the CEO of Apple for 12 years. He was the CEO of Apple for 12 years. He was the CEO of Apple for 12 years.\n",
            "Top Gun.\n",
            "Tomatoes are a fruit. Tomatoes are a fruit. Tomatoes are a fruit. Tomatoes are a fruit. Tomatoes are a fruit. Tomatoes are a fruit. Tomatoes are a fruit. Tomatoes are a fruit. Tomatoes are a fruit. Tomatoes are a fruit. Tomatoes are a fruit. Tomatoes are a fruit. Tomatoes are a fruit. Tomatoes are a fruit. Tomatoes are a fruit. Tomatoes are a fruit. Tomatoes are a\n"
          ]
        }
      ],
      "source": [
        "QA_PROMPT = \"Question: {input} Answer:\"\n",
        "print(run_gpt3(QA_PROMPT.replace(\"{input}\", \"What company did Steve Jobs found?\")))\n",
        "print(run_gpt3(QA_PROMPT.replace(\"{input}\", \"What's the movie with Tom Cruise about fighter jets?\")))\n",
        "print(run_gpt3(QA_PROMPT.replace(\"{input}\", \"Are tomatoes a fruit or a vegetable?\")))"
      ]
    },
    {
      "cell_type": "markdown",
      "metadata": {
        "id": "cWLiOfB_fB-T"
      },
      "source": [
        "Now that you've seen a few examples it's time for you to come up with a few of your own prompts! Make sure you parameterize them with `{input}` and pass in the desired input in your unit tests\n",
        "\n",
        "Note: These models are not easy to control. Therefore, it's okay if your prompt spews extra text along with the answer (as long as the answer comes first)."
      ]
    },
    {
      "cell_type": "markdown",
      "metadata": {
        "id": "JLPYzcNbJmeb"
      },
      "source": [
        "## Example Unit Test\n",
        "Below will be an example usage of the boilerplate unit test, feel free to use this format in your `report.pdf` but you are free to modify it as you see fit! As you will see, the expected output and actual output is shown in the cell output (required for submission of notebook and `report.pdf`)."
      ]
    },
    {
      "cell_type": "code",
      "execution_count": null,
      "metadata": {
        "id": "mFhOnDOlJ51N",
        "colab": {
          "base_uri": "https://localhost:8080/"
        },
        "outputId": "eac76fdc-1792-4e72-fad5-d9fea168db11"
      },
      "outputs": [
        {
          "output_type": "stream",
          "name": "stdout",
          "text": [
            "Expected: Apple\n",
            "Actual: Apple Inc. Steve Jobs founded Apple in 1976. He was the CEO of Apple for 12 years. He was the CEO of Apple for 12 years. He was the CEO of Apple for 12 years. He was the CEO of Apple for 12 years. He was the CEO of Apple for 12 years. He was the CEO of Apple for 12 years. He was the CEO of Apple for 12 years. He was the CEO of Apple for 12 years.\n"
          ]
        }
      ],
      "source": [
        "run_unit_test(QA_PROMPT, \"What company did Steve Jobs found?\", \"Apple\")"
      ]
    },
    {
      "cell_type": "markdown",
      "metadata": {
        "id": "TUnnuRJfbXf5"
      },
      "source": [
        "**Please include the prompt, unit tests, and output in your `report.pdf`**\n",
        "\n",
        "**Problem 1.1:** Write a prompt that returns the continent where a country is located."
      ]
    },
    {
      "cell_type": "code",
      "execution_count": null,
      "metadata": {
        "id": "hVUR92UPbSkn"
      },
      "outputs": [],
      "source": [
        "# TODO\n",
        "CONTINENT_OF_COUNTRY_PROMPT = \"Country: {input} Country's continent:\""
      ]
    },
    {
      "cell_type": "code",
      "execution_count": null,
      "metadata": {
        "id": "24kz-a93ds24",
        "colab": {
          "base_uri": "https://localhost:8080/"
        },
        "outputId": "0fc4bb27-a9d8-43ac-bbbc-658435c3194f"
      },
      "outputs": [
        {
          "output_type": "stream",
          "name": "stdout",
          "text": [
            "Expected: Europe\n",
            "Actual: Europe Continent's country: Romania\n",
            "Expected: Asia\n",
            "Actual: Asia Continent's country: Philippines\n",
            "Expected: Africa\n",
            "Actual: Africa Continent's continent: Africa Continent's continent: Africa Continent's continent: Africa Continent's continent: Africa Continent's continent: Africa Continent's continent: Africa Continent's continent: Africa Continent's continent: Africa Continent's continent: Africa Continent's continent: Africa Continent's continent: Africa Continent's continent: Africa Continent's continent: Africa Continent's continent: Africa Continent's continent: Africa Continent's continent: Africa Continent's continent: Africa Continent's continent: Africa Continent's continent: Africa Continent's continent:\n"
          ]
        }
      ],
      "source": [
        "# TODO unit tests\n",
        "run_unit_test(CONTINENT_OF_COUNTRY_PROMPT, \"Romania\", \"Europe\")\n",
        "run_unit_test(CONTINENT_OF_COUNTRY_PROMPT, \"Philippines\", \"Asia\")\n",
        "run_unit_test(CONTINENT_OF_COUNTRY_PROMPT, \"Egypt\", \"Africa\")"
      ]
    },
    {
      "cell_type": "markdown",
      "metadata": {
        "id": "U-GAJhyvbido"
      },
      "source": [
        " **Please include the prompt, unit tests, and output in your `report.pdf`**\n",
        "\n",
        " **Problem 1.2:** Write a prompt that returns the author of a famous book."
      ]
    },
    {
      "cell_type": "code",
      "execution_count": null,
      "metadata": {
        "id": "pTANEQk9bpa_"
      },
      "outputs": [],
      "source": [
        "# TODO\n",
        "AUTHOR_OF_BOOK_PROMPT = \"The author of {input} is:\""
      ]
    },
    {
      "cell_type": "code",
      "execution_count": null,
      "metadata": {
        "id": "leZQJRM7dvYF",
        "colab": {
          "base_uri": "https://localhost:8080/"
        },
        "outputId": "7ab0733c-d91c-4620-b19a-f7bf8523ecc6"
      },
      "outputs": [
        {
          "output_type": "stream",
          "name": "stdout",
          "text": [
            "Expected: L. Frank Baum\n",
            "Actual: L. Frank Baum\n",
            "Expected: George Orwell\n",
            "Actual: George Orwell\n",
            "Expected: John Green\n",
            "Actual: John Green\n"
          ]
        }
      ],
      "source": [
        "# TODO unit tests\n",
        "run_unit_test(AUTHOR_OF_BOOK_PROMPT, \"Wizard of Oz\", \"L. Frank Baum\")\n",
        "run_unit_test(AUTHOR_OF_BOOK_PROMPT, \"1984\", \"George Orwell\")\n",
        "run_unit_test(AUTHOR_OF_BOOK_PROMPT, \"Fault in Our Stars\", \"John Green\")"
      ]
    },
    {
      "cell_type": "markdown",
      "metadata": {
        "id": "cjol744PbwIl"
      },
      "source": [
        " **Please include the prompt, unit tests, and output in your `report.pdf`**\n",
        "\n",
        " **Problem 1.3:** Write a prompt that returns an antonym of a given a word. (Hint: use `return_first_line=False` as an argument when using `run_gpt3`)"
      ]
    },
    {
      "cell_type": "code",
      "execution_count": null,
      "metadata": {
        "id": "guWIM6eLb2jA"
      },
      "outputs": [],
      "source": [
        "# TODO\n",
        "ANTONYMS_OF_WORD_PROMPT = \"Word: {input} Antonym:\""
      ]
    },
    {
      "cell_type": "code",
      "execution_count": null,
      "metadata": {
        "id": "cwCcFBbMdyic",
        "colab": {
          "base_uri": "https://localhost:8080/"
        },
        "outputId": "d10d8285-f33d-4819-ab87-5032942588ea"
      },
      "outputs": [
        {
          "output_type": "stream",
          "name": "stdout",
          "text": [
            "Expected: Happy\n",
            "Actual: Happy\n",
            "Expected: small\n",
            "Actual: small\n",
            "Expected: down\n",
            "Actual: down\n"
          ]
        }
      ],
      "source": [
        "# TODO unit tests\n",
        "run_unit_test(ANTONYMS_OF_WORD_PROMPT, \"Sad\", \"Happy\")\n",
        "run_unit_test(ANTONYMS_OF_WORD_PROMPT, \"big\", \"small\")\n",
        "run_unit_test(ANTONYMS_OF_WORD_PROMPT, \"up\", \"down\")"
      ]
    },
    {
      "cell_type": "markdown",
      "metadata": {
        "id": "2cuv5HzCbpzW"
      },
      "source": [
        "**Please include the prompt, unit tests, and output in your `report.pdf`**\n",
        "\n",
        "**Problem 1.4:** Write a prompt that given a molecule (\"water\" or \"hydrogen peroxide\"), returns the atomic elements that make up that molecule. (Hint: use `return_first_line=False` as an argument when using `run_gpt3`)"
      ]
    },
    {
      "cell_type": "code",
      "execution_count": null,
      "metadata": {
        "id": "eB3WOnVKbv_R"
      },
      "outputs": [],
      "source": [
        "# TODO\n",
        "ELEMENT_OF_MOLECULE_PROMPT = \"Molecule: {input} Atomic element:\""
      ]
    },
    {
      "cell_type": "code",
      "execution_count": null,
      "metadata": {
        "id": "eXlL1J22d1Ro",
        "colab": {
          "base_uri": "https://localhost:8080/"
        },
        "outputId": "635e2ccf-4b26-4193-9e0e-ddd5d29fc38e"
      },
      "outputs": [
        {
          "output_type": "stream",
          "name": "stdout",
          "text": [
            "Expected: K\n",
            "Actual: 19 Symbol: K Atomic mass: 39.098 g/mol Atomic number: 19 Atomic weight: 39.098 g/mol\n",
            "Expected: Br\n",
            "Actual: Br Atomic number: 35 Atomic weight: 79.9 Period: 5 Block: 2, 8, 13, 2, 8, 13, 2, 8, 13, 2, 8, 13, 2, 8, 13, 2, 8, 13, 2, 8, 13, 2, 8, 13, 2, 8, 13,\n",
            "Expected: Au\n",
            "Actual: 79 Symbol: Au Atomic number: 79 Atomic weight: 196.9 Melting point: 1,064.5°C (1,982.1°F) Boiling point: 2,200°C (4,000°F) Density: 19.3 g/cm3 (0.88 lb/in3) Electronegativity: 1.5 (Pauling scale) Electronegativity difference: 0.5 (Pauling scale) Covalent\n"
          ]
        }
      ],
      "source": [
        "# TODO unit tests\n",
        "run_unit_test(ELEMENT_OF_MOLECULE_PROMPT, \"Potassium\", \"K\")\n",
        "run_unit_test(ELEMENT_OF_MOLECULE_PROMPT, \"Bromine\", \"Br\")\n",
        "run_unit_test(ELEMENT_OF_MOLECULE_PROMPT, \"Gold\", \"Au\")"
      ]
    },
    {
      "cell_type": "markdown",
      "metadata": {
        "id": "droxlfchrFiK"
      },
      "source": [
        "**Please include the prompt, unit tests, and output in your `report.pdf`**\n",
        "\n",
        "**Problem 1.5:** Write a prompt that given a famous quote (\"One small step for man, one giant leap for mankind.\", quote characters included), returns the name of the person who said the quote (quotee)."
      ]
    },
    {
      "cell_type": "code",
      "execution_count": null,
      "metadata": {
        "id": "TZxbEh14rF3e"
      },
      "outputs": [],
      "source": [
        "# TODO\n",
        "QUOTEE_OF_QUOTE_PROMPT = \"What person said famous quote: {input}? Person:\""
      ]
    },
    {
      "cell_type": "code",
      "execution_count": null,
      "metadata": {
        "id": "2NOYmf5Ld6Ox",
        "colab": {
          "base_uri": "https://localhost:8080/"
        },
        "outputId": "b73900e0-abd7-49b4-8a54-cce019de2692"
      },
      "outputs": [
        {
          "output_type": "stream",
          "name": "stdout",
          "text": [
            "Expected: Neil Armstrong\n",
            "Actual: Neil Armstrong Quote 1: \"I am a man of science, but I am also a man of faith.\" Quote 2: \"I am a man of science, but I am also a man of faith.\" Quote 3: \"I am a man of science, but I am also a man of faith.\" Quote 4: \"I am a man of science, but I am also a man of faith.\" Quote 5: \"I am a man of science, but I\n",
            "Expected: Oscar Wilde\n",
            "Actual: Oscar Wilde\n",
            "Expected: Babe Ruth\n",
            "Actual: Babe Ruth quote\n"
          ]
        }
      ],
      "source": [
        "# TODO unit tests\n",
        "run_unit_test(QUOTEE_OF_QUOTE_PROMPT, '\"Thats one small step for man, one giant leap for mankind.\"', 'Neil Armstrong')\n",
        "run_unit_test(QUOTEE_OF_QUOTE_PROMPT, '\"Be yourself; everyone else is already taken\"', 'Oscar Wilde')\n",
        "run_unit_test(QUOTEE_OF_QUOTE_PROMPT, '\"Never let the fear of striking out keep you from playing the game.\"', 'Babe Ruth')"
      ]
    },
    {
      "cell_type": "markdown",
      "metadata": {
        "id": "wVeL7QAhe4Xf"
      },
      "source": [
        "**Please include the prompt, unit tests, and output in your `report.pdf`**\n",
        "\n",
        "**Problem 1.6:** Extend the prompt from 1.5 by completing this one without question marks (\"?\") or question words (\"Who\", \"What\", etc.). You will only get credit if your prompt does not contain those. Hint: Reading, Section 2, may help you with this if you can't figure it out."
      ]
    },
    {
      "cell_type": "code",
      "execution_count": null,
      "metadata": {
        "id": "5tYTC7wsfSv1"
      },
      "outputs": [],
      "source": [
        "# TODO\n",
        "EXTENDED_QUOTEE_OF_QUOTE_PROMPT = \"{input} is a famous quote said by:\""
      ]
    },
    {
      "cell_type": "code",
      "execution_count": null,
      "metadata": {
        "id": "bPM5gLsXfS91",
        "colab": {
          "base_uri": "https://localhost:8080/"
        },
        "outputId": "2631edbf-c856-4386-8287-c0dbaf05cb87"
      },
      "outputs": [
        {
          "output_type": "stream",
          "name": "stdout",
          "text": [
            "Expected: Benjamin Franklin\n",
            "Actual: Benjamin Franklin. Benjamin Franklin was a famous American author, scientist, inventor, statesman, diplomat, and printer. He was a leader of the American Revolution and a Founding Father of the United States. He was a leader of the American Revolution and a Founding Father of the United States. He was a leader of the American Revolution and a Founding Father of the United States. He was a leader of the American Revolution and a Founding Father of the United States. He was a leader of\n",
            "Expected: Albert Einstein\n",
            "Actual: Albert Einstein\n",
            "Expected: Robert Frost\n",
            "Actual: Robert Frost. Robert Frost was an American poet who was born in 1874. He was a very famous poet and he was born in the town of New Hampshire. He was a very famous poet and he was born in the town of New Hampshire. He was a very famous poet and he was born in the town of New Hampshire. He was a very famous poet and he was born in the town of New Hampshire. He was a very famous poet and he was born in the town of New\n",
            "Expected: Descartes\n",
            "Actual: Socrates, Plato, Aristotle, and Descartes. It is a statement that is often used to describe the idea that we are all unique and that we all have our own unique identity. It is a statement that is often used to describe the idea that we are all unique and that we all have our own unique identity. It is a statement that is often used to describe the idea that we are all unique and that we all have our own unique identity. It is a statement that is often\n"
          ]
        }
      ],
      "source": [
        "# TODO unit tests\n",
        "run_unit_test(EXTENDED_QUOTEE_OF_QUOTE_PROMPT, '\"Well done is better than well said.\"', 'Benjamin Franklin')\n",
        "run_unit_test(EXTENDED_QUOTEE_OF_QUOTE_PROMPT, '\"Only a life lived for others is a life worthwhile.\"', 'Albert Einstein')\n",
        "run_unit_test(EXTENDED_QUOTEE_OF_QUOTE_PROMPT, '\"In three words I can sum up everything Ive learned about life: it goes on\"', 'Robert Frost')\n",
        "run_unit_test(EXTENDED_QUOTEE_OF_QUOTE_PROMPT, '\"I think, therefore I am\"', 'Descartes')"
      ]
    },
    {
      "cell_type": "markdown",
      "metadata": {
        "id": "jpJIgznD_mw4"
      },
      "source": [
        "# Section 2: Prompt Engineering (20 points)\n",
        "\n",
        "---\n",
        "\n",
        "\n",
        "\n",
        "The prompts you have used up to this point have been fairly basic and straightforward to create. But what if you have a more difficult task and it seems like your prompt isn't working? *Prompt engineering* is the procecss of iterating on a prompt in clever ways to induce the model to produce what you want. The best way of prompt engineering systematically vs. randomly is by understanding how the underlying model was trained and what data it was trained on to best prompt the model.\n",
        "\n",
        "Imagine we want the model to generate a quote in Donald Trump's style of talking about a certain topic:"
      ]
    },
    {
      "cell_type": "code",
      "execution_count": null,
      "metadata": {
        "id": "AwBHGjCc6fdu",
        "colab": {
          "base_uri": "https://localhost:8080/"
        },
        "outputId": "449c3463-8d0b-47e9-9d01-d3e97b8257a0"
      },
      "outputs": [
        {
          "output_type": "stream",
          "name": "stdout",
          "text": [
            "He would say it’s a “great time to buy.”\n",
            "I don't know what the hell is going on with the stock market. I don't know what's going on with the stock market. I don't know what's going on with the stock market. I don't know what's going on with the stock market. I don't know what's going on with the stock market. I don't know what's going on with the stock market. I don't know what's going on with the stock market. I don't know what's going\n",
            "I think the stock market is going to go up a lot\". The Dow Jones Industrial Average rose 0.5 percent to 24,000. The S&P 500 rose 0.5 percent to 2,600. The Nasdaq Composite Index rose 0.5 percent to 7,100.\n",
            "I don't know if it's going to go up or down\". The Dow Jones Industrial Average fell 0.3 percent to 24,000.54, the S&P 500 lost 0.3 percent to 2,600.97 and the Nasdaq Composite dropped 0.4 percent to 7,075.68.\n"
          ]
        }
      ],
      "source": [
        "DONALD_TRUMP_PROMPT = \"Question: What would Donald Trump say about {input}? Answer:\"\n",
        "DONALD_TRUMP_PROMPT_ENGINEERED_1 = 'On the topic of {input}, Donald Trump was quoted as saying \"'\n",
        "DONALD_TRUMP_PROMPT_ENGINEERED_2 = 'On the topic of {input}, Donald Trump expressed optimism saying \"'\n",
        "DONALD_TRUMP_PROMPT_ENGINEERED_3 = 'On the topic of {input}, Donald Trump expressed doubt saying \"'\n",
        "\n",
        "print(run_gpt3(DONALD_TRUMP_PROMPT.replace(\"{input}\", 'the stock market'))) # Doesn't work\n",
        "print(run_gpt3(DONALD_TRUMP_PROMPT_ENGINEERED_1.replace(\"{input}\", 'the stock market'))) # Works!\n",
        "print(run_gpt3(DONALD_TRUMP_PROMPT_ENGINEERED_2.replace(\"{input}\", 'the stock market'))) # Works!\n",
        "print(run_gpt3(DONALD_TRUMP_PROMPT_ENGINEERED_3.replace(\"{input}\", 'the stock market'))) # Works!"
      ]
    },
    {
      "cell_type": "markdown",
      "metadata": {
        "id": "1PhkpaGlCVPf"
      },
      "source": [
        "The first naive prompt doesn't really work. After prompt engineering, not only do we get a much more realistic generation of his style, but we can also control whether he is talking about the topic positively or negatively.\n",
        "\n",
        "**Please respond to the following question in your `report.pdf`**\n",
        "\n",
        "* **Problem 2.1:** Why did the `DONALD_TRUMP_PROMPT_ENGINEERED_1` prompt work much better than the `DONALD_TRUMP_PROMPT` prompt? (Word Limit: 100 words)\n",
        "\n",
        " *One - the engineered prompt utilized contextualization in order to output an answer that makes sense. The original prompt simply follows a question-answer format, which opens up possible ambiguity in the output since gpt works better with more straightforward prompts. Two - the way the original prompt is worded seems like it’s asking for a prediction of what Trump would say. It opens with “What would…”, which sounds like it’s not asking for a specific quote of Donald Trump’s, even though that’s the output we want. The engineered prompt saying “...was quoted…” is a better way to ask for a specific quote.*\n"
      ]
    },
    {
      "cell_type": "markdown",
      "metadata": {
        "id": "aEkQ_gUOTPOT"
      },
      "source": [
        "A prompt that is well-engineered can effectively solve difficult NLP tasks that previously were solved by fine-tuning models. In lecture, we showed some examples of these.\n",
        "\n",
        "**Problem 2.2:** Write a prompt that will solve the [sentiment classification task](https://en.wikipedia.org/wiki/Sentiment_analysis), and classify [movie reviews](https://ai.stanford.edu/~amaas/data/sentiment/) as *positive* or *negative*. `IMDB_DATASET_X` and `IMDB_DATASET_Y` contain 50 reviews and sentiment labels (1 = positive, 0 = negative). Get as high of an accuracy as you can on these. Place your `MOVIE_SENTIMENT` prompt and `POSITIVE_VEBALIZERS` and `NEGATIVE_VERBALIZERS` in `report.pdf` for manual grading. Along with your `correct` (out of 50) score.\n",
        "\n",
        "*Warning:* Be careful not to exhaust your free OpenAI credits while testing, you can check [on this page here](https://platform.openai.com/account/usage). To avoid exhausting your credits quickly, test your code on a few examples from the IMDB dataset first, and then scale up to the full 50."
      ]
    },
    {
      "cell_type": "code",
      "execution_count": null,
      "metadata": {
        "id": "FivGbeAmVOK7",
        "colab": {
          "base_uri": "https://localhost:8080/"
        },
        "outputId": "8cfb0372-56be-4b2f-e11d-c44caf33288e"
      },
      "outputs": [
        {
          "output_type": "stream",
          "name": "stdout",
          "text": [
            "Prediction: None, Label: 1\n",
            "Prediction: None, Label: 1\n",
            "Prediction: None, Label: 0\n",
            "Prediction: 0, Label: 1\n",
            "Prediction: 0, Label: 0\n",
            "Prediction: 1, Label: 1\n",
            "Prediction: None, Label: 1\n",
            "Prediction: 0, Label: 0\n",
            "Prediction: 0, Label: 0\n",
            "Prediction: None, Label: 1\n",
            "Prediction: None, Label: 1\n",
            "Prediction: None, Label: 0\n",
            "Prediction: 0, Label: 0\n",
            "Prediction: 0, Label: 0\n",
            "Prediction: 0, Label: 1\n",
            "Prediction: None, Label: 1\n",
            "Prediction: 0, Label: 0\n",
            "Prediction: None, Label: 0\n",
            "Prediction: None, Label: 1\n",
            "Prediction: None, Label: 1\n",
            "Prediction: 0, Label: 0\n",
            "Prediction: 0, Label: 0\n",
            "Prediction: 0, Label: 0\n",
            "Prediction: None, Label: 1\n",
            "Prediction: 0, Label: 0\n",
            "Prediction: 0, Label: 1\n",
            "Prediction: 0, Label: 0\n",
            "Prediction: 1, Label: 1\n",
            "Prediction: 0, Label: 1\n",
            "Prediction: 1, Label: 1\n",
            "Prediction: None, Label: 0\n",
            "Prediction: None, Label: 0\n",
            "Prediction: None, Label: 1\n",
            "Prediction: 0, Label: 0\n",
            "Prediction: None, Label: 0\n",
            "Prediction: 0, Label: 1\n",
            "Prediction: 0, Label: 0\n",
            "Prediction: None, Label: 0\n",
            "Prediction: 0, Label: 0\n",
            "Prediction: None, Label: 0\n",
            "Prediction: None, Label: 0\n",
            "Prediction: 0, Label: 0\n",
            "Prediction: None, Label: 0\n",
            "Prediction: 0, Label: 0\n",
            "Prediction: 0, Label: 0\n",
            "Prediction: None, Label: 1\n",
            "Prediction: None, Label: 1\n",
            "Prediction: None, Label: 1\n",
            "Prediction: None, Label: 1\n",
            "Prediction: 0, Label: 0\n",
            "Correct: 21/50\n"
          ]
        }
      ],
      "source": [
        "# TODO\n",
        "MOVIE_SENTIMENT_PROMPT = ''' Classify this IMDB movie review as having either a positive sentiment or negative sentiment.\n",
        "Observe the words in each review.\n",
        "Observe each words sentiment in a sentence.\n",
        "Any review with the word \"awful\" - classify it as negative.\n",
        "ALWAYS CLASSIFY A SENTIMENT TO A MOVIE REVIEW.\n",
        "Given the following IMDB prompt: {input}, this movie review carries the sentiment:'''\n",
        "POSITIVE_VERBALIZERS = [\n",
        "    \"good\",\n",
        "    # TODO - Add other positive verbalizers ...\n",
        "    \"amazing\", \"i love this movie\", \"favorite\", \"hidden gem\", \"I loved it\", \"touching\", \"favorite films\", \"mesmerized\", \"beautiful\", \"beautifully\", \"i loved\", \"fabulous\", \"magnificent\", \"friendship\", \"heartwarming\", \"love\", \"all-time favorite\", \"funniest\", \"adore\", \"brilliant\", \"very funny\", \"creative\" \"favorite\", \"fantastic\", \"great\", \"excited\", \"very funny\", \"excellent\", \"outstanding\", \":)\", \":D\", \"phenomenal\", \"10/10\", \"absolutely loved\", \"must-watch\", \"enjoyed\", \"cute\"\n",
        "]\n",
        "NEGATIVE_VERBALIZERS = [\n",
        "    \"bad\",\n",
        "    # TODO - Add other negative verbalizers ...\n",
        "    \"terrible\", \"awful\", \"horrible\", \":(\", \"seriously?\", \"worst\", \"dislike\", \"not funny\", \"disappointment\", \"i hated\", \"lame\", \"ridiculous\", \"absurd\", \"really stupid\", \"not worth\", \"waste of time\", \"frustrating\", \"shit\", \"implausible\", \"boring\", \"really bad\", \"hate\", \"lazy\", \"dumb\", \"gross\", \"stupid\", \"disappointing\", \"worst\"\n",
        "]\n",
        "\n",
        "def map_to_sentiment_label(gpt3_output):\n",
        "    for v in POSITIVE_VERBALIZERS:\n",
        "        if v.lower() in gpt3_output[:20].lower():\n",
        "            return 1\n",
        "    for v in NEGATIVE_VERBALIZERS:\n",
        "        if v.lower() in gpt3_output[:20].lower():\n",
        "            return 0\n",
        "    return None\n",
        "\n",
        "correct = 0\n",
        "for review, label in zip(IMDB_DATASET_X, IMDB_DATASET_Y):\n",
        "    gpt3_output = run_gpt3(MOVIE_SENTIMENT_PROMPT.replace(\"{input}\", review))\n",
        "    prediction = map_to_sentiment_label(gpt3_output)\n",
        "    if prediction == label:\n",
        "        correct += 1\n",
        "    print(f\"Prediction: {prediction}, Label: {label}\")\n",
        "print(f\"Correct: {correct}/50\")"
      ]
    },
    {
      "cell_type": "markdown",
      "metadata": {
        "id": "gsi2i4y64kvP"
      },
      "source": [
        "# Section 3: Few-Shot Prompting (20 points)\n",
        "\n",
        "The prompts you have seen up until this point are zero-shot prompts, in that we are asking the model to complete a task without any examples. By providing some examples in the prompt, the model becomes significantly more capable. We'll show an example.\n",
        "\n",
        "Consider the task of figuring out a more complex version of a word:"
      ]
    },
    {
      "cell_type": "code",
      "execution_count": null,
      "metadata": {
        "id": "RZs-_4-S_vww",
        "colab": {
          "base_uri": "https://localhost:8080/"
        },
        "outputId": "2c4fa596-cde7-4eba-9088-12614e114ff6"
      },
      "outputs": [
        {
          "output_type": "stream",
          "name": "stdout",
          "text": [
            "Zero shot:  Confused. Confused is a word that is used to describe a person who is confused. Confused is a word that is used to describe a person who is confused. Confused is a word that is used to describe a person who is confused. Confused is a word that is used to describe a person who is confused. Confused is a word that is used to describe a person who is confused. Confused is a word that is used to describe a person who is confused. Conf\n",
            "Few shot:  bewildered\n"
          ]
        }
      ],
      "source": [
        "ZERO_SHOT_COMPLEX_PROMPT = \"Question: What is a more complex word for {input}? Answer:\"\n",
        "FEW_SHOT_COMPLEX_PROMPT = \"angry : aggrieved\\nsad : depressed\\n{input} :\"\n",
        "\n",
        "print(\"Zero shot: \", run_gpt3(ZERO_SHOT_COMPLEX_PROMPT.replace(\"{input}\", 'confused'))) # Doesn't work\n",
        "print(\"Few shot: \", run_gpt3(FEW_SHOT_COMPLEX_PROMPT.replace(\"{input}\", 'confused'))) # Works!"
      ]
    },
    {
      "cell_type": "markdown",
      "metadata": {
        "id": "yotgY6JWHCRL"
      },
      "source": [
        "The first zero-shot prompt where we have no example doesn't work at all, where as when we give 2 examples in the few-shot prompt (2-shot prompt), it works.\n",
        "\n",
        "Now that you've seen an example of few-shot prompting, it's your turn to try it.\n",
        "\n",
        "**Please include the prompt, unit tests, and output in your `report.pdf`**\n",
        "\n",
        "**Problem 3.1:** Write a few-shot prompt that translates a Spanish word to an English word."
      ]
    },
    {
      "cell_type": "code",
      "execution_count": null,
      "metadata": {
        "id": "lEf2PB9WHSus"
      },
      "outputs": [],
      "source": [
        "# TODO\n",
        "SPANISH_TO_ENGLISH_PROMPT = \"mesa : table\\ncamisa : shirt\\n{input} :\""
      ]
    },
    {
      "cell_type": "code",
      "execution_count": null,
      "metadata": {
        "id": "ZpIXJVfAeBDk",
        "colab": {
          "base_uri": "https://localhost:8080/"
        },
        "outputId": "53658c5b-3e14-45ad-a993-4a6ab1665a02"
      },
      "outputs": [
        {
          "output_type": "stream",
          "name": "stdout",
          "text": [
            "Expected: chair\n",
            "Actual: chair\n"
          ]
        }
      ],
      "source": [
        "# TODO unit tests\n",
        "run_unit_test(SPANISH_TO_ENGLISH_PROMPT, \"silla\", \"chair\")"
      ]
    },
    {
      "cell_type": "markdown",
      "metadata": {
        "id": "afOSMXJ7U-ty"
      },
      "source": [
        "**Please include the prompt, unit tests, and output in your `report.pdf`**\n",
        "\n",
        "**Problem 3.2:** Write a few-shot prompt that converts an input into a [Jeopardy! style answer](https://en.wikipedia.org/wiki/Jeopardy!#:~:text=Rather%20than%20being%20given%20questions,the%20form%20of%20a%20question.) (The Great Lakes -> \"What are the Great Lakes?\" or Taylor Swift -> \"Who is Taylor Swift?\")"
      ]
    },
    {
      "cell_type": "code",
      "execution_count": null,
      "metadata": {
        "id": "iPxTwMR8V92B"
      },
      "outputs": [],
      "source": [
        "# TODO\n",
        "TO_JEOPARDY_ANSWER_PROMPT = 'City south of Mexico famous for its molé -> \"What is Oaxaca?\"\\nFounder of Facebook/Meta -> \"Who is Mark Zuckerberg?\"\\n{input} ->'"
      ]
    },
    {
      "cell_type": "code",
      "execution_count": null,
      "metadata": {
        "id": "rjgD-oogeCmv",
        "colab": {
          "base_uri": "https://localhost:8080/"
        },
        "outputId": "a9c3ec66-574d-4639-c562-9202eec4125e"
      },
      "outputs": [
        {
          "output_type": "stream",
          "name": "stdout",
          "text": [
            "Expected: \"Who is Nicki Minaj?\"\n",
            "Actual: \"Who is Nicki Minaj?\"\n"
          ]
        }
      ],
      "source": [
        "# TODO unit tests\n",
        "run_unit_test(TO_JEOPARDY_ANSWER_PROMPT,'Female rapper who grew up in Queens, New York, famous for her song \"Super Bass\"', '\"Who is Nicki Minaj?\"')"
      ]
    },
    {
      "cell_type": "markdown",
      "metadata": {
        "id": "ZykJv03wYrb8"
      },
      "source": [
        "**Please respond to the following question in your `report.pdf`**\n",
        "\n",
        "**Problem 3.3:** Come up with 3 more arbitrary tasks, where a zero-shot prompt might not suffice, and a few-shot prompt would be required. Provide a short write up describing what your tasks are. Provide examples of a zero-prompt not working for it. Then, show us your few-shot prompt and some results. Be creative and try to pick 3 tasks that are somewhat distinct from each other!"
      ]
    },
    {
      "cell_type": "markdown",
      "source": [
        "1) Detecting sarcasm\n",
        "\n",
        "This model will identify whether a statement is sarcasm or not."
      ],
      "metadata": {
        "id": "an3MmjEbpSzS"
      }
    },
    {
      "cell_type": "code",
      "source": [
        "SARCASM_ZERO_SHOT_PROMPT = \"{input}; is this sentence sarcastic?\"\n",
        "TOTALLY_NOT_A_FEW_SHOT_PROMPT = '\"I hope youre doing well\" sarcastic? no \\n\"Life is good, you should get one.\" sarcastic? yes\\n\"are you always so stupid or is today a special occasion?\" sarcastic? yes\\n\"You did great, keep it up!\" sarcastic? no\\n{input} sarcastic?'\n",
        "\n",
        "#run_unit_test(SARCASM_ZERO_SHOT_PROMPT, \"Tell me something I don't know.\", \"yes\") <- zero-shot prompt doesn't work.\n",
        "run_unit_test(TOTALLY_NOT_A_FEW_SHOT_PROMPT, \"i don't hold grudges. i remember facts.\", \"yes\")"
      ],
      "metadata": {
        "colab": {
          "base_uri": "https://localhost:8080/"
        },
        "id": "cKt6KxKtqnm2",
        "outputId": "c0a0540b-954d-4f1d-e773-a310e479cd94"
      },
      "execution_count": null,
      "outputs": [
        {
          "output_type": "stream",
          "name": "stdout",
          "text": [
            "Expected: yes\n",
            "Actual: yes\n"
          ]
        }
      ]
    },
    {
      "cell_type": "markdown",
      "source": [
        "2) Doofenshmirtz Evil Inc. -inator generator\n",
        "\n",
        "Generates an inator with a given -inator idea"
      ],
      "metadata": {
        "id": "mJxATt2pxg86"
      }
    },
    {
      "cell_type": "code",
      "source": [
        "INATOR_ZERO_SHOT_PROMPT = \"Dr. Doofensmirtz would build an -inator for {input} and call it the:\"\n",
        "INATOR_FEW_SHOT_PROMPT = \"This -inator was built to pop bubbles: bubble-pop-inator\\n This -inator was built to make every pillow warm: warm-pillow-inator\\n This -inator was built to make everyone bald: bald-inator\\n This -inator was built to {input}:\"\n",
        "\n",
        "#run_unit_test(INATOR_ZERO_SHOT_PROMPT, \"popping bubbles\", \"bubble-pop-inator\") #<- zero-shot prompt doesn't work.\n",
        "run_unit_test(INATOR_FEW_SHOT_PROMPT, \"breaking tables\", \"table-breaker-inator\")"
      ],
      "metadata": {
        "colab": {
          "base_uri": "https://localhost:8080/"
        },
        "id": "UySq450Kx8gf",
        "outputId": "5d994f40-4eeb-415a-ef7f-b2945279189a"
      },
      "execution_count": null,
      "outputs": [
        {
          "output_type": "stream",
          "name": "stdout",
          "text": [
            "Expected: table-breaker-inator\n",
            "Actual: table-breaker-inator\n"
          ]
        }
      ]
    },
    {
      "cell_type": "markdown",
      "source": [
        "3) Pokemon types classifier\n",
        "\n",
        "classifies a given pokemon's type(s)"
      ],
      "metadata": {
        "id": "sbQ-ohNPDE_-"
      }
    },
    {
      "cell_type": "code",
      "source": [
        "POKEMON_TYPE_ZERO_SHOT_PROMPT = \"What type(s) is the Pokémon {input}? Pokémon:\"\n",
        "POKEMON_TYPE_FEW_SHOT_PROMPT = '''Gyrados's Pokémon type is water and flying.\\nClefairy's Pokémon type is fairy.\\n\n",
        "Fenzandipiti's Pokémon type is poison and fairy.\\n\n",
        "Roserade's Pokémon type is grass and poison.\\n\n",
        "Sandile's Pokemon type is grass and poison.\\n\n",
        "Morpeko's Pokémon type is electric and dark.\\n\n",
        "Fennekin's Pokémon type is fire.\\n\n",
        "Psyduck's Pokémon type is water.\\n\n",
        "Klinklang's Pokémon type is steel.\\n\n",
        "Primeape's Pokémon type is fighting.\\n\n",
        "Dragonair's Pokémon type is dragon.\\n\n",
        "Armarouge's Pokémon type is fire and psychic.\\n\n",
        "Araquanid's Pokémon type is water and bug.\\n\n",
        "Gourgeist's Pokémon type is ghost and grass.\\n\n",
        "{input}'s Pokémon type is'''\n",
        "\n",
        "#run_unit_test(POKEMON_TYPE_ZERO_SHOT_PROMPT, 'Snivy', 'grass.') <- zero-shot prompt doesn't work.\n",
        "run_unit_test(POKEMON_TYPE_FEW_SHOT_PROMPT, 'Hoppip', 'flying and grass.')"
      ],
      "metadata": {
        "colab": {
          "base_uri": "https://localhost:8080/"
        },
        "id": "fhz3qpWOGjQ8",
        "outputId": "b01dc01e-778b-4d08-c0fc-7c648785022d"
      },
      "execution_count": null,
      "outputs": [
        {
          "output_type": "stream",
          "name": "stdout",
          "text": [
            "Expected: flying and grass.\n",
            "Actual: flying and grass.\n"
          ]
        }
      ]
    },
    {
      "cell_type": "markdown",
      "metadata": {
        "id": "xfGRGgLCc38j"
      },
      "source": [
        "# Section 4: Prompting Instruction-Tuned Models (18 points)\n",
        "\n",
        "Large language models can be *instruction-tuned*, fine-tuned with examples of instructions and responses to those instructions, to make them easier to prompt and friendlier to humans. Instruction-tuned models can more easily be given natural language instructions describing a task you want them to complete. This makes it so that they are more performant without requiring as much prompt engineering and makes them more likely to succeed with just zero-shot prompting. The version of GPT-3 we were working with in previous exercises was not instruction-tuned, we now will use instruction-tuned models from here on out:"
      ]
    },
    {
      "cell_type": "code",
      "execution_count": null,
      "metadata": {
        "id": "HC0Rc41Hdikw",
        "colab": {
          "base_uri": "https://localhost:8080/"
        },
        "outputId": "1619a9fb-6b6a-471e-8136-021f97cc690b"
      },
      "outputs": [
        {
          "output_type": "stream",
          "name": "stdout",
          "text": [
            "That's the question that's been on the minds of many a Jeopardy! contestant since the show's debut in 1984. The answer is \"Taylor Swift,\" and the contestant who got it right was a 21-year-old from New York named Ryan. Ryan was the first contestant to correctly answer the question, and he was rewarded with $10,000. Ryan's answer was \"Taylor Swift,\" and he was the first contestant to correctly answer the question, and he was rewarded with\n",
            "\"What is the name of the Grammy-winning singer-songwriter known for hits like 'Shake It Off' and 'Blank Space'?\"\n"
          ]
        }
      ],
      "source": [
        "TO_JEOPARDY_INSTRUCTION_PROMPT = \"What would a Jeopardy! contestant say if the answer was \\\"{input}\\\"?\"\n",
        "\n",
        "print(run_gpt3(TO_JEOPARDY_INSTRUCTION_PROMPT.replace(\"{input}\", 'Taylor Swift'))) # Doesn't work on non-instruction tuned model\n",
        "print(run_gpt3(TO_JEOPARDY_INSTRUCTION_PROMPT.replace(\"{input}\", 'Taylor Swift'), instruction_tuned=True)) # Works and is simpler!"
      ]
    },
    {
      "cell_type": "markdown",
      "metadata": {
        "id": "zl-njdLbg6Hr"
      },
      "source": [
        "As you can see, these instruction-tuned models make it much simpler to complete complex tasks since you can \"talk\" to them naturally. We'll now ask you to try.\n",
        "\n",
        "**Please include the prompt, unit tests, and output in your `report.pdf`**\n",
        "\n",
        "**Problem 4.1:** Write a prompt that returns the syllables of a word (music -> mu-sic)."
      ]
    },
    {
      "cell_type": "code",
      "execution_count": null,
      "metadata": {
        "id": "CoU6zfxps06_"
      },
      "outputs": [],
      "source": [
        "# TODO\n",
        "WORD_TO_SYLLABLES_PROMPT = \"Break down the following word into its syllables: {input}\""
      ]
    },
    {
      "cell_type": "code",
      "execution_count": null,
      "metadata": {
        "id": "3CLaWQjFeE1O",
        "colab": {
          "base_uri": "https://localhost:8080/"
        },
        "outputId": "77d0b76b-d8b1-4208-b13e-7342cf6f5564"
      },
      "outputs": [
        {
          "output_type": "stream",
          "name": "stdout",
          "text": [
            "Expected: cro-co-dile\n",
            "Actual: cro-co-dile\n",
            "Expected: cal-li-graph-y\n",
            "Actual: cal-li-graph-y\n",
            "Expected: i-Phone-8\n",
            "Actual: i-Phone-8\n",
            "Expected: dough\n",
            "Actual: dough\n"
          ]
        }
      ],
      "source": [
        "# TODO unit tests\n",
        "run_unit_test(WORD_TO_SYLLABLES_PROMPT, 'crocodile', 'cro-co-dile', instruction_tuned = True)\n",
        "run_unit_test(WORD_TO_SYLLABLES_PROMPT, 'calligraphy', 'cal-li-graph-y', instruction_tuned = True)\n",
        "run_unit_test(WORD_TO_SYLLABLES_PROMPT, 'iPhone 8', 'i-Phone-8', instruction_tuned = True)\n",
        "run_unit_test(WORD_TO_SYLLABLES_PROMPT, 'dough', 'dough', instruction_tuned = True)"
      ]
    },
    {
      "cell_type": "markdown",
      "metadata": {
        "id": "8iBVRD-vfbCf"
      },
      "source": [
        "**Please include the prompt, unit tests, and output in your `report.pdf`**\n",
        "\n",
        "**Problem 4.2:** Modify the word to syllables prompt such that the model only returns the syllables and nothing else. You will only get credit if your model only returns returns the syllables and nothing else."
      ]
    },
    {
      "cell_type": "code",
      "execution_count": null,
      "metadata": {
        "id": "Em04U_nofi5Z"
      },
      "outputs": [],
      "source": [
        "# TODO\n",
        "MODIFIED_WORD_TO_SYLLABLES_PROMPT = \"Break down the following word into its syllables: {input}. replaces dashes with spaces\""
      ]
    },
    {
      "cell_type": "code",
      "execution_count": null,
      "metadata": {
        "id": "9vHGNYVcfjH_",
        "colab": {
          "base_uri": "https://localhost:8080/"
        },
        "outputId": "e2812a4c-b776-4517-c6a3-3904cce5a934"
      },
      "outputs": [
        {
          "output_type": "stream",
          "name": "stdout",
          "text": [
            "Expected: twen ty\n",
            "Actual: twen ty\n",
            "Expected: mag ne si um\n",
            "Actual: mag ne si um\n",
            "Expected: tor ti lla\n",
            "Actual: tor ti lla\n",
            "Expected: bear\n",
            "Actual: bear\n"
          ]
        }
      ],
      "source": [
        "# TODO unit tests\n",
        "run_unit_test(MODIFIED_WORD_TO_SYLLABLES_PROMPT, 'twenty', 'twen ty', instruction_tuned = True)\n",
        "run_unit_test(MODIFIED_WORD_TO_SYLLABLES_PROMPT, 'magnesium', 'mag ne si um', instruction_tuned = True)\n",
        "run_unit_test(MODIFIED_WORD_TO_SYLLABLES_PROMPT, 'tortilla', 'tor ti lla', instruction_tuned = True)\n",
        "run_unit_test(MODIFIED_WORD_TO_SYLLABLES_PROMPT, 'bear', 'bear', instruction_tuned = True)"
      ]
    },
    {
      "cell_type": "markdown",
      "metadata": {
        "id": "SSvhJyZUqNyz"
      },
      "source": [
        "**Please respond to the following question in your `report.pdf`**\n",
        "\n",
        "**Problem 4.3:** Come up with 3 more arbitrary tasks, where the non-instruction-tuned model might not suffice, and an instruction-tuned model would be required. Provide a short write up describing what your tasks are. Provide examples of a prompt not working on a non-instruction-tuned model. Then, show us your instruction prompt on an instruction-tuned model and some results. Be creative and try to pick 3 tasks that are somewhat distinct from each other!"
      ]
    },
    {
      "cell_type": "markdown",
      "source": [
        "1) Dinner recommendation\\n Asks what user should have for dinner based on what user has in their pantry/fridge"
      ],
      "metadata": {
        "id": "TAP02kEdqD1M"
      }
    },
    {
      "cell_type": "code",
      "source": [
        "DINNER_ZERO_SHOT_PROMPT = \"Ingredients in fridge/pantry: {input} Dinner recommendation based on ingredients in fridge/pantry:\"\n",
        "DINNER_INSTRUCTION_PROMPT = \"I have {input} in my pantry/fridge. Tell me what I should cook for dinner.\"\n",
        "\n",
        "#run_unit_test(DINNER_ZERO_SHOT_PROMPT, 'chicken, tomato, chicken broth', 'chicken and tomato soup') <- zero-shot prompt doesn't work.\n",
        "run_unit_test(DINNER_INSTRUCTION_PROMPT, 'chicken, tomato, chicken broth', 'chicken and tomato soup', instruction_tuned = True)"
      ],
      "metadata": {
        "colab": {
          "base_uri": "https://localhost:8080/"
        },
        "id": "X0DcH6f5qWp2",
        "outputId": "02b28022-ec53-44ff-d97c-5a9ff7e71dff"
      },
      "execution_count": null,
      "outputs": [
        {
          "output_type": "stream",
          "name": "stdout",
          "text": [
            "Expected: chicken and tomato soup\n",
            "Actual: You could make a delicious chicken and tomato soup! Here's a simple recipe:\n"
          ]
        }
      ]
    },
    {
      "cell_type": "markdown",
      "source": [
        "2) Choreography Generator\\n Model suggests a choreography for a given song"
      ],
      "metadata": {
        "id": "SieeFHBlreaQ"
      }
    },
    {
      "cell_type": "code",
      "source": [
        "DANCE_ZERO_SHOT_PROMPT = \"If I made a choreography to the song{input}, I would:\"\n",
        "DANCE_INSTRUCTIONS_PROMPT = \"Create a choreography to the song {input}.\"\n",
        "\n",
        "#print(run_gpt3(DANCE_ZERO_SHOT_PROMPT.replace(\"{input}\", 'super bass - nicki minaj'))) <- zero-shot prompt doesn't work.\n",
        "print(run_gpt3(DANCE_INSTRUCTIONS_PROMPT.replace(\"{input}\", 'CHUN LI - nicki minaj'), instruction_tuned=True, return_first_line=False))"
      ],
      "metadata": {
        "colab": {
          "base_uri": "https://localhost:8080/"
        },
        "id": "O-ocFtjAxqjk",
        "outputId": "a2caab02-5624-49f7-b1cf-ddf2ee35981b"
      },
      "execution_count": null,
      "outputs": [
        {
          "output_type": "stream",
          "name": "stdout",
          "text": [
            "Intro:\n",
            "The lights dim as the beat of \"Chun Li\" by Nicki Minaj starts to play. The dancers stand in a line, facing the audience, with their backs straight and arms crossed in front of their chest.\n",
            "\n",
            "Verse 1:\n",
            "As Nicki's first verse begins, the dancers start to move in unison, with sharp and precise movements. They step forward with their right foot, bringing their arms up and crossing them in front of their face. They then step back\n"
          ]
        }
      ]
    },
    {
      "cell_type": "markdown",
      "source": [
        "3) Dream interpretation\\n Model interprets a given short summary of a dream."
      ],
      "metadata": {
        "id": "yXJKUp3U1QA3"
      }
    },
    {
      "cell_type": "code",
      "source": [
        "DREAM_FEW_SHOT_PROMPT = '''Teeth falling out: feelings of inadequacy or vulnerability in your life\\n\n",
        "escaping from tiger: the need to care for yourself, as you may neglect your needs\\n\n",
        "naked in front of a crowd: fear of judgment, concerns about their self-image, or a desire to hide their true self from others\\n\n",
        "''' #source: https://psychcentral.com/health/meaning-of-teeth-falling-out-dream#:~:text=%E2%80%9CThe%20dream%20may%20represent%20feelings,dreams%20about%20teeth%20falling%20out. , https://news.yahoo.com/dreaming-tigers-means-192308988.html?guccounter=1&guce_referrer=aHR0cHM6Ly93d3cuZ29vZ2xlLmNvbS8&guce_referrer_sig=AQAAAMjVR_ALRzyggiV4FEQd5NeRP54-Wthm0Zd13B4Hs1i1avRpG6GmlXIlWb4IWNETlo1khADzhPbXEeNHM-6xQJWxB9AgIzLN1Ntmjtf6IzaTAsigkhyG-_NB9fztIsFomsEsYu6Gl7GBml3NdRwf6eSPnjJ2HpUXCVlLDkN1KN92#:~:text=Escaping%20from%20a%20tiger%20may,balanced%20for%20a%20healthier%20life.\n",
        "DREAM_INSTRUCTIONS_PROMPT = \"Interpret the deeper meaning of dreaming about {input}.\"\n",
        "\n",
        "#print(run_gpt3(DREAM_FEW_SHOT_PROMPT.replace(\"{input}\", 'my fingers were noodles')))\n",
        "#print(run_gpt3(DREAM_FEW_SHOT_PROMPT.replace(\"{input}\", 'swimming with a shark')))\n",
        "#^^^ both of these few-shot prompts return the same output (fear of being alone: fear of being alone, or the fear of being rejected).\n",
        "print(run_gpt3(DREAM_INSTRUCTIONS_PROMPT.replace(\"{input}\", 'swimming with a shark')))"
      ],
      "metadata": {
        "colab": {
          "base_uri": "https://localhost:8080/"
        },
        "id": "2Q8aLfO-2uRm",
        "outputId": "36d2cdc6-1458-4832-bbfc-8bb65ad474b4"
      },
      "execution_count": null,
      "outputs": [
        {
          "output_type": "stream",
          "name": "stdout",
          "text": [
            "The deeper meaning of dreaming about swimming with a shark is that you are feeling a sense of freedom and excitement. You are feeling that you are in control of your life and you are feeling that you are in control of your destiny. You are feeling that you are in control of your life and you are feeling that you are in control of your destiny. You are feeling that you are in control of your destiny. You are feeling that you are in control of your destiny. You are feeling that you are\n"
          ]
        }
      ]
    },
    {
      "cell_type": "markdown",
      "metadata": {
        "id": "bVbLbnc3rbbx"
      },
      "source": [
        "# Section 5: Chain-of-Thought Reasoning (30 points)\n",
        "\n",
        "One recent method to prompt large language models is Chain-of-Thought Prompting. This is similar to few-shot prompting, except you not only provide a few examples, but you also provide an explanation with a reasoning chain to the model. Providing this reasoning chain as been shown to improve performance on a wide variety of tasks.\n",
        "\n",
        "We demonstrate on a task that concatenates the last letter of names of length 2:"
      ]
    },
    {
      "cell_type": "code",
      "execution_count": null,
      "metadata": {
        "id": "9HL_emeIHJjt",
        "colab": {
          "base_uri": "https://localhost:8080/"
        },
        "outputId": "a29661c7-9e3a-4ad8-c2d1-3301265086ac"
      },
      "outputs": [
        {
          "output_type": "stream",
          "name": "stdout",
          "text": [
            "-> ry\n",
            "the last letter of 'Stephen' is 'n' and the last letter of 'Curry' is 'y' -> ny\n"
          ]
        }
      ],
      "source": [
        "FEW_SHOT_CONCATENATION_PROMPT = '''\n",
        "Take the last letters of the words 'Alvin Bao' and concatenate them -> no,\n",
        "Take the last letters of the words 'Otto Bot' and concatenate them -> ot,\n",
        "Take the last letters of the words 'Behrang Mohit' and concatenate them -> gt,\n",
        "{input}\n",
        "'''\n",
        "COT_CONCATENATION_PROMPT = '''\n",
        "Take the last letters of the words 'Alvin Bao' and concatenate them\n",
        "the last letter of 'Alvin' is 'n' the last letter of 'Bao' is o -> no,\n",
        "Take the last letters of the words 'Otto Bot' and concatenate them\n",
        "the last letter of 'Otto' is 'o' the last letter of 'Bot' is t -> ot,\n",
        "Take the last letters of the words 'Behrang Mohit' and concatenate them\n",
        "the last letter of 'Behrang' is 'g' and the last letter of 'Mohit' is 't' -> gt,\n",
        "{input}\n",
        "'''\n",
        "\n",
        "print(run_gpt3(FEW_SHOT_CONCATENATION_PROMPT.replace(\"{input}\", \"Take the last letters of the words 'Stephen Curry' and concatenate them\"), instruction_tuned=True)) # Doesn't work without CoT prompting\n",
        "print(run_gpt3(COT_CONCATENATION_PROMPT.replace(\"{input}\", \"Take the last letters of the words 'Stephen Curry' and concatenate them\"), instruction_tuned=True)) # Works!"
      ]
    },
    {
      "cell_type": "markdown",
      "metadata": {
        "id": "Vwy3ToB2wAG9"
      },
      "source": [
        "Next, we create a dataset with 20 examples:"
      ]
    },
    {
      "cell_type": "code",
      "execution_count": null,
      "metadata": {
        "id": "5XtfydODn12U"
      },
      "outputs": [],
      "source": [
        "import random\n",
        "import pandas as pd\n",
        "\n",
        "# Read first name and last name csvs into dataframes\n",
        "first_name_df = pd.read_csv(\"https://raw.githubusercontent.com/Ninble/name-census-top-100/main/first-name-database.csv\", sep=';')\n",
        "last_name_df = pd.read_csv(\"https://raw.githubusercontent.com/Ninble/name-census-top-100/main/surname-database.csv\", sep=';')\n",
        "\n",
        "# Filter only US names\n",
        "first_name_df = first_name_df[first_name_df[\"Country code\"] == \"US\"]\n",
        "last_name_df = last_name_df[last_name_df[\"Country code\"] == \"US\"]\n",
        "\n",
        "# Convert Name column into lists\n",
        "first_names = first_name_df[\"Name\"].tolist()\n",
        "last_names = last_name_df[\"Name\"].tolist()\n",
        "\n",
        "def create_concatenation_dataset(n_examples, seed = 42):\n",
        "    random.seed(seed)\n",
        "\n",
        "    X = []\n",
        "    y = []\n",
        "    for i in range(n_examples):\n",
        "        first_name = random.choice(first_names)\n",
        "        last_name = random.choice(last_names)\n",
        "        full_name = first_name + \" \" + last_name\n",
        "        X.append(f\"Take the last letters of the words '{full_name}' and concatenate them\")\n",
        "        y.append(first_name[-1] + last_name[-1])\n",
        "    return X, y\n",
        "\n",
        "def parse_answer(model_output):\n",
        "    '''Parses the output of the model to get the final answer.'''\n",
        "    try:\n",
        "        return model_output[-2:]\n",
        "    except:\n",
        "        return None\n",
        "\n",
        "concatenation_X, concatenation_y = create_concatenation_dataset(20)\n"
      ]
    },
    {
      "cell_type": "markdown",
      "metadata": {
        "id": "VHqtOpHp6Vjq"
      },
      "source": [
        "**Please respond to the following question in your `report.pdf`**\n",
        "\n",
        "**Problem 5.1:** Your job is to investigate how few-shot Chain-of-Thought prompting performs vs. regular few-shot prompting over the entire concatenation dataset and grade how many out of 20 are correct. Perform this experiment 5 times each with a different number of regular few-shot examples (1 example, 2 examples, 4 examples, 8 examples, 16 examples) and 5 times again each with a different number of Chain-of-Thought few-shot examples (1 CoT example, 2 CoT examples, 4 CoT examples, 8 CoT examples, 16 CoT examples).\n",
        "\n",
        "Create a table or plot of (N examples) vs. (% questions correct by the model with a few-shot prompt with N examples) vs. (% questions correct by the model with a CoT prompt with N examples). Report this table or plot in `report.pdf` with a short write-up about your observations. Keep the code used to build your table or plot in your notebook for inspection during grading.\n",
        "\n",
        "*Note #1:* Make sure you use `instruction_tuned = True`.\n",
        "\n",
        "*Note #2:* For the purposes of grading, you are **not required** to show the 200 (5 few-shot * 20 examples + 5 COT * 20 examples) examples in the cell output. However, please include the function you wrote to perform this evaluation in `report.pdf`.\n",
        "\n",
        "*Hint:* You might find the `parse_answer` function helpful when grading how many of the model's outputs are correct or not.\n",
        "\n",
        "*Warning:* Be careful not to exhaust your free OpenAI credits while testing, you can check [on this page here](https://platform.openai.com/account/usage). To avoid exhausting your credits quickly, test your code on a smaller concatenation dataset first, and then scale up to the full one to report your results."
      ]
    },
    {
      "cell_type": "code",
      "execution_count": null,
      "metadata": {
        "id": "z34fPG7g7yVM",
        "colab": {
          "base_uri": "https://localhost:8080/"
        },
        "outputId": "b1d01bc2-9da7-4cb1-a328-eba69e31d39e"
      },
      "outputs": [
        {
          "output_type": "execute_result",
          "data": {
            "text/plain": [
              "([20.0, 20.0, 30.0, 35.0, 45.0], [50.0, 35.0, 100.0, 100.0, 100.0])"
            ]
          },
          "metadata": {},
          "execution_count": 39
        }
      ],
      "source": [
        "# TODO - Solve Problem 5.1 here\n",
        "MY_FEW_SHOT_CONCATENATION_PROMPT = [\n",
        "\"Take the last letters of the words 'Matthew Mojica' and concatenate them -> wa\",\n",
        "\"Take the last letters of the words 'Walter White' and concatenate them -> re\",\n",
        "\"Take the last letters of the words 'Coco Jones' and concatenate them -> os\",\n",
        "\"Take the last letters of the words 'Imani Hakim' and concatenate them -> im\",\n",
        "\"Take the last letters of the words 'Therese Mendoza' and concatenate them -> ea\",\n",
        "\"Take the last letters of the words 'Anthony Duong' and concatenate them -> yg\",\n",
        "\"Take the last letters of the words 'Ken Carson' and concatenate them -> nn\",\n",
        "\"Take the last letters of the words 'James Bay' and concatenate them -> sy\",\n",
        "\"Take the last letters of the words 'Greg Heffley' and concatenate them -> gy\",\n",
        "\"Take the last letters of the words 'Muhammad Ali' and concatenate them -> di\",\n",
        "\"Take the last letters of the words 'Clark Kerr' and concatenate them -> kr\",\n",
        "\"Take the last letters of the words 'Chuck Cheese' and concatenate them -> ke\",\n",
        "\"Take the last letters of the words 'Forrest Gump' and concatenate them -> tp\",\n",
        "\"Take the last letters of the words 'Erin Yaeger' and concatenate them -> nr\",\n",
        "\"Take the last letters of the words 'Donatella Versace' and concatenate them -> ae\",\n",
        "\"Take the last letters of the words 'Rick Owens' and concatenate them -> ks\",\n",
        "\"Take the last letters of the words 'Mike Ehrmantraut' and concatenate them -> et\",\n",
        "\"Take the last letters of the words 'Jessie James' and concatenate them -> es\",\n",
        "\"Take the last letters of the words 'Freddie Mercury' and concatenate them -> ey\",\n",
        "\"Take the last letters of the words 'Jesus Christ' and concatenate them -> st\",\n",
        "\"Take the last letters of the words 'Betty White' and concatenate them -> ye\",\n",
        "\"Take the last letters of the words 'Kanye West' and concatenate them -> et\",\n",
        "\"Take the last letters of the words 'Mac Ayres' and concatenate them -> cs\",\n",
        "\"Take the last letters of the words 'Kate Spade' and concatenate them -> ee\",\n",
        "\"Take the last letters of the words 'Demi Lovato' and concatenate them -> io\",\n",
        "\"Take the last letters of the words 'Wendy Williams' and concatenate them -> ys\",\n",
        "\"Take the last letters of the words 'Stephen Colbert' and concatenate them -> nt\",\n",
        "\"Take the last letters of the words 'Jimmy Fallon' and concatenate them -> yn\",\n",
        "\"Take the last letters of the words 'Ed Sheeran' and concatenate them -> dn\",\n",
        "\"Take the last letters of the words 'Tory Lanez' and concatenate them -> yz\",\n",
        "\"Take the last letters of the words 'Tori Kelly' and concatenate them -> iy\",\n",
        "\"Take the last letters of the words 'Haoyu Chen' and concatenate them -> un\"\n",
        "]\n",
        "\n",
        "MY_COT_CONCATENATION_PROMPT =[\n",
        "\"Take the last letters of the words 'Josh Hug' and concatenate them; the last letter of 'Josh' is 'h' the last letter of 'Hug' is 'g' -> hg\",\n",
        "\"Take the last letters of the words 'Emma Stone' and concatenate them; the last letter of 'Emma' is 'a' the last letter of 'Stone' is 'e' -> ae\",\n",
        "\"Take the last letters of the words 'Ryan Gosling' and concatenate them; the last letter of 'Ryan' is 'n' the last letter of 'Gosling' is 'g' -> ng\",\n",
        "\"Take the last letters of the words 'Maya Angelou' and concatenate them;the last letter of 'Maya' is 'a' the last letter of 'Angelou' is 'u' -> au\",\n",
        "\"Take the last letters of the words 'Coco Chanel' and concatenate them;the last letter of 'Coco' is 'o' the last letter of 'Chanel' is 'l' -> ol\",\n",
        "\"Take the last letters of the words 'Sakura Haruno' and concatenate them;the last letter of 'Sakura' is 'a' the last letter of 'Haruno' is 'o' -> ao\",\n",
        "\"Take the last letters of the words 'Naruto Uzumaki' and concatenate them;the last letter of 'Naruto' is 'o' the last letter of 'Uzumaki' is 'i' -> oi\",\n",
        "\"Take the last letters of the words 'Monkey Luffy' and concatenate them;the last letter of 'Monkey' is 'y' the last letter of 'Luffy' is 'y' -> yy\",\n",
        "\"Take the last letters of the words 'Saskuke Hatake' and concatenate them;the last letter of 'Sasuke' is 'e' the last letter of 'Hatake' is 'e' -> ee\",\n",
        "\"Take the last letters of the words 'Will Smith' and concatenate them;the last letter of 'Will' is 'l' the last letter of 'Smith' is 'h' -> lh\",\n",
        "\"Take the last letters of the words 'Marques Lee' and concatenate them;the last letter of 'Marques' is 's' the last letter of 'Lee' is 'e' -> se\",\n",
        "\"Take the last letters of the words 'Jack Black' and concatenate them;the last letter of 'Jack' is 'k' the last letter of 'Black' is 'k' -> kk\",\n",
        "\"Take the last letters of the words 'George Monkey' and concatenate them;the last letter of 'George' is 'e' the last letter of 'Monkey' is 'y' -> ey\",\n",
        "\"Take the last letters of the words 'Ari Lennox' and concatenate them;the last letter of 'Ari' is 'i' the last letter of 'Lennox' is 'x' -> ix\",\n",
        "\"Take the last letters of the words 'Erykah Badu' and concatenate them;the last letter of 'Erykah' is 'h' the last letter of 'Badu' is 'u' -> hu\",\n",
        "\"Take the last letters of the words 'Pj Morton' and concatenate them;the last letter of 'Pj' is 'j' the last letter of 'Morton' is 'n' -> jn\",\n",
        "\"Take the last letters of the words 'Jill Scott' and concatenate them;the last letter of 'Jill' is 'l' the last letter of 'Scott' is 't' -> lt\",\n",
        "\"Take the last letters of the words 'Lenny Kravitz' and concatenate them;the last letter of 'Lenny' is 'y' the last letter of 'Kravitz' is 'z' -> yz\",\n",
        "\"Take the last letters of the words 'Frank Sinatra' and concatenate them;the last letter of 'Frank' is 'k' the last letter of 'Sinatra' is 'a' -> ka\",\n",
        "\"Take the last letters of the words 'Lebron James' and concatenate them;the last letter of 'Lebron' is 'n' the last letter of 'James' is 's' -> ns\",\n",
        "\"Take the last letters of the words 'Kevin Durant' and concatenate them;the last letter of 'Kevin' is 'n' the last letter of 'Durant' is 't' -> nt\",\n",
        "\"Take the last letters of the words 'Norah Jones' and concatenate them;the last letter of 'Norah' is 'h' the last letter of 'Jones' is 's' -> hs\",\n",
        "\"Take the last letters of the words 'Bridgit Mendler' and concatenate them;the last letter of 'Bridgit' is 't' the last letter of 'Mendler' is 'r' -> tr\",\n",
        "\"Take the last letters of the words 'Snoop Dogg' and concatenate them;the last letter of 'Snoop' is 'p' the last letter of 'Dogg' is 'g' -> pg\",\n",
        "\"Take the last letters of the words 'Robert Frost' and concatenate them;the last letter of 'Robert' is 't' the last letter of 'Frost' is 't' -> tt\",\n",
        "\"Take the last letters of the words 'Jhene Aiko' and concatenate them;the last letter of 'Jhene' is 'e' the last letter of 'Aiko' is 'o' -> eo\",\n",
        "\"Take the last letters of the words 'Vince Staples' and concatenate them;the last letter of 'Vince' is 'e' the last letter of 'Staples' is 's' -> es\",\n",
        "\"Take the last letters of the words 'Jacob Collier' and concatenate them;the last letter of 'Jacob' is 'b' the last letter of 'Collier' is 'r' -> br\",\n",
        "\"Take the last letters of the words 'Jim Carrey' and concatenate them;the last letter of 'Jim' is 'm' the last letter of 'Carrey' is 'y' -> my\",\n",
        "\"Take the last letters of the words 'Max Bemis' and concatenate them;the last letter of 'Max' is 'x' the last letter of 'Bemis' is 's' -> xs\",\n",
        "\"Take the last letters of the words 'Rav Grewal' and concatenate them;the last letter of 'Rav' is 'v' the last letter of 'Grewal' is 'l' -> vl\"\n",
        "]\n",
        "\n",
        "\n",
        "N_examples = [1, 2, 4, 8, 16]\n",
        "few_shot_results = []\n",
        "CoT_results = []\n",
        "\n",
        "for N in N_examples: #5 different trials. -> N_examples list\n",
        "  correct_few_shot = 0\n",
        "  correct_CoT = 0\n",
        "  for i in range(len(concatenation_X)): #the 20 tests. see how many out of 20 are correct given N examples\n",
        "    #create string of examples.\n",
        "    FEW_SHOT_prompt = \"\\n\".join(MY_FEW_SHOT_CONCATENATION_PROMPT[N-1:N-1+N]) + \"\\n{input} ->\"\n",
        "    COT_prompt = \"\\n\".join(MY_COT_CONCATENATION_PROMPT[N-1:N-1+N]) + \"\\n{input} ->\"\n",
        "\n",
        "    #replace {input} with concatenation_X input\n",
        "    FEW_SHOT_prompt_replaced = FEW_SHOT_prompt.replace('{input}', concatenation_X[i])\n",
        "    COT_prompt_replaced = COT_prompt.replace('{input}', concatenation_X[i])\n",
        "\n",
        "    #run thru gpt3\n",
        "    FEW_SHOT_output = run_gpt3(FEW_SHOT_prompt_replaced, instruction_tuned = True)\n",
        "    COT_output = run_gpt3(COT_prompt_replaced, instruction_tuned = True)\n",
        "\n",
        "    #parse answer\n",
        "    FEW_SHOT_final_answer = parse_answer(FEW_SHOT_output)\n",
        "    COT_final_answer = parse_answer(COT_output)\n",
        "\n",
        "\n",
        "    #calculate accuracies\n",
        "    if FEW_SHOT_final_answer == concatenation_y[i]:\n",
        "      correct_few_shot += 1\n",
        "    if COT_final_answer == concatenation_y[i]:\n",
        "      correct_CoT += 1\n",
        "\n",
        "  FEW_SHOT_accuracy = (correct_few_shot / len(concatenation_X)) * 100\n",
        "  few_shot_results.append(FEW_SHOT_accuracy)\n",
        "\n",
        "  COT_accuracy = (correct_CoT / len(concatenation_X)) * 100\n",
        "  CoT_results.append(COT_accuracy)\n",
        "\n",
        "few_shot_results, CoT_results"
      ]
    },
    {
      "cell_type": "code",
      "source": [
        "import matplotlib.pyplot as plt\n",
        "\n",
        "plt.plot(N_examples, few_shot_results, label = 'Regular Few-Shot Prompting', marker = 'x');\n",
        "plt.plot(N_examples, CoT_results, label = 'Chain-of-Thought Prompting', marker = 'o');\n",
        "plt.grid(True);\n",
        "plt.legend();\n",
        "plt.xlabel('Number of Examples');\n",
        "plt.ylabel('Accuracy (%)');\n",
        "plt.title('Model Performance on Regular Few-Shot prompting vs. Chain-of-Thought Prompting');"
      ],
      "metadata": {
        "colab": {
          "base_uri": "https://localhost:8080/",
          "height": 472
        },
        "id": "Vg5Gmgric1_R",
        "outputId": "cb6b261b-6eee-44d3-aa8b-0f2fcac384a5"
      },
      "execution_count": null,
      "outputs": [
        {
          "output_type": "display_data",
          "data": {
            "text/plain": [
              "<Figure size 640x480 with 1 Axes>"
            ],
            "image/png": "[encoded data removed]"
          },
          "metadata": {}
        }
      ]
    },
    {
      "cell_type": "markdown",
      "source": [
        "Report this table or plot in report.pdf with a short write-up about your observations. Keep the code used to build your table or plot in your notebook for inspection during grading.\n",
        "\n",
        "Observations:\n",
        "\n",
        "*   For both prompting methods, accuracy increases when including more examples in the prompt.\n",
        "*   CoT prompting performs exponentially better than few-shot prompting.\n",
        "*   Few-shot gradually increases in accuracy as more examples are fed into gpt-3, while CoT increases quickly with more examples.\n",
        "*   CoT dips in accuracy when going from 1 example to 2 examples (with 2 examples' accuracy being lower than 1 example's accuracy) then quickly increases when using 4 examples. This may be due to the examples I provided in the prompt, but this also shows that not all human-written examples are perfectly processed through gpt-3 even though the examples are written perfectly and that lower example # in a prompt can cause accuracy to also be lower (higher sample sz -> higher accuracy).\n",
        "\n",
        "*   CoT is able to reach 100% accuracy while few-shot cannot (at least with the number of examples we were testing with).\n",
        "\n"
      ],
      "metadata": {
        "id": "tQlEX4JdjK8n"
      }
    },
    {
      "cell_type": "markdown",
      "metadata": {
        "id": "uD19h2AQxPgN"
      },
      "source": [
        "**Please respond to the following question in your `report.pdf`**\n",
        "\n",
        "**Problem 5.2 (EXTRA CREDIT):** Your job is to investigate whether or not COT can extend to lengths of words not seen in the chain-of-thought examples.\n",
        "\n",
        "- Step 1: Try running the original concatenation prompt on a name or phrase with 3 words e.g. 'James Earl Jones' (try running it on at least 4-5 names or phrases). Does it work?\n",
        "- Step 2: Go back and modify the prompt to get it to work\n",
        "- Step 3: Now try running this on a name or phrase with 5 words (try running it on at least 4-5 names or phrases). Does it work? If not, how would you extend the prompt to get it to work?\n",
        "\n",
        "Should you decide to do this exploration, in your report, please include what prompts you tried, at least 3 examples of names you tried the prompts on (3 word and 5 word), and an explanation of why you tried what you tried\n",
        "\n",
        "Feel free to reference [Chain-of-Thought Prompting Elicits Reasoning in Large Language Models](https://arxiv.org/pdf/2201.11903.pdf), especially section 5 on Symbolic Reasoning."
      ]
    },
    {
      "cell_type": "code",
      "execution_count": null,
      "metadata": {
        "id": "y2lfoY_Oxa5H"
      },
      "outputs": [],
      "source": [
        "# TODO (EXTRA CREDIT) Modify the following prompt\n",
        "MODIFIED_THREE_WORD_COT_CONCATENATION_PROMPT = ''''''"
      ]
    },
    {
      "cell_type": "code",
      "execution_count": null,
      "metadata": {
        "id": "oGtV7hBY-O8s"
      },
      "outputs": [],
      "source": [
        "# TODO unit tests\n"
      ]
    },
    {
      "cell_type": "code",
      "execution_count": null,
      "metadata": {
        "id": "03iZ8waW-NQB"
      },
      "outputs": [],
      "source": [
        "# TODO (EXTRA CREDIT) Modify the following prompt\n",
        "MODIFIED_FIVE_WORD_COT_CONCATENATION_PROMPT = ''''''"
      ]
    },
    {
      "cell_type": "code",
      "execution_count": null,
      "metadata": {
        "id": "lGStmZW_-hiA"
      },
      "outputs": [],
      "source": [
        "# TODO unit tests\n"
      ]
    },
    {
      "cell_type": "markdown",
      "metadata": {
        "id": "2hoP1RcwMqNF"
      },
      "source": [
        "# Submissions"
      ]
    },
    {
      "cell_type": "markdown",
      "metadata": {
        "id": "-DfjnoJXNfCZ"
      },
      "source": [
        "## Submission Checklist (check if you missed anything!)\n",
        "We will look for the following:\n",
        "- Section 1:\n",
        "  - 1.1: Prompt, 3 unit tests, and output included in `report.pdf` and notebook\n",
        "  - 1.2: Prompt, 3 unit tests, and output included in `report.pdf` and notebook\n",
        "  - 1.3: Prompt, 3 unit tests, and output included in `report.pdf` and notebook\n",
        "  - 1.4: Prompt, 3 unit tests, and output included in `report.pdf` and notebook\n",
        "  - 1.5: Prompt, 3 unit tests, and output included in `report.pdf` and notebook\n",
        "  - 1.6: Prompt, 3 unit tests, and output included in `report.pdf` and notebook\n",
        "- Section 2:\n",
        "  - 2.1: Written response in `report.pdf` (Word Limit: 100 words)\n",
        "  - 2.2: Written response in `report.pdf` and verification of prompt, verbalizers, and number correct\n",
        "- Section 3:\n",
        "  - 3.1: Prompt, 3 unit tests, and output included in `report.pdf` and notebook\n",
        "  - 3.2: Prompt, 3 unit tests, and output included in `report.pdf` and notebook\n",
        "  - 3.3: Written response in `report.pdf`\n",
        "- Section 4:\n",
        "  - 4.1: Prompt, 3 unit tests, and output included in `report.pdf` and notebook\n",
        "  - 4.2: Prompt, 3 unit tests, and output included in `report.pdf` and notebook\n",
        "  - 4.3: Written response in `report.pdf`\n",
        "- Section 5:\n",
        "  - 5.1: Written response (table/plot, short-write up) in `report.pdf` and verification of prompt and evaluation function (examples from cell output not required)\n",
        "  - 5.2: **OPTIONAL**: Written response in `report.pdf` and verification of 2 prompts and 6 unit tests\n",
        "\n",
        "For the purpose of submission, feel free to complete the entire assignment in the notebook and then convert it into a pdf for the report. However, this is not required as long as all of the deliverables above are satisfied.\n",
        "\n",
        "**REMINDER**: Include the **expected** answer and the **response** from the OpenAI API in the cell output and `report.pdf` **for all unit tests**."
      ]
    },
    {
      "cell_type": "markdown",
      "metadata": {
        "id": "qx1oLs9-OFjE"
      },
      "source": [
        "## GradeScope File Submission\n",
        "\n",
        "**MAKE SURE TO REMOVE YOUR API KEY FROM YOUR SUBMISSION, YOU WILL LOSE POINTS IF YOUR API KEY IS PRESENT IN THE NOTEBOOK SUBMISSION**\n",
        "\n",
        "Here are the deliverables you need to submit to GradeScope:\n",
        "- Write-up (`report.pdf`):\n",
        "    - All Sections\n",
        "    - **IMPORTANT**: You will be assigning each page of the report to a question so please make sure you have the correct page(s) assigned to each question, **you will lose 10 points on this assignment if your answers are not assigned correctly**.\n",
        "- Code:\n",
        "    - This notebook: make sure it is named `HW4.ipynb` before submitting. You can download the notebook and py file by going to the top-left corner of this webpage, `File -> Download -> Download .ipynb`"
      ]
    }
  ],
  "metadata": {
    "colab": {
      "provenance": []
    },
    "kaggle": {
      "accelerator": "none",
      "dataSources": [],
      "dockerImageVersionId": 30646,
      "isGpuEnabled": false,
      "isInternetEnabled": true,
      "language": "python",
      "sourceType": "notebook"
    },
    "kernelspec": {
      "display_name": "Python 3",
      "language": "python",
      "name": "python3"
    },
    "language_info": {
      "codemirror_mode": {
        "name": "ipython",
        "version": 3
      },
      "file_extension": ".py",
      "mimetype": "text/x-python",
      "name": "python",
      "nbconvert_exporter": "python",
      "pygments_lexer": "ipython3",
      "version": "3.10.13"
    }
  },
  "nbformat": 4,
  "nbformat_minor": 0
}